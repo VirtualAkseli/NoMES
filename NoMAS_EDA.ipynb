{
 "cells": [
  {
   "cell_type": "markdown",
   "source": [
    "# EDA - NoMES\n"
   ],
   "metadata": {}
  },
  {
   "cell_type": "code",
   "execution_count": 21,
   "source": [
    "import pandas as pd\n",
    "\n",
    "data = pd.read_csv(\"data_2020.csv\", sep=';')\n"
   ],
   "outputs": [],
   "metadata": {}
  },
  {
   "cell_type": "code",
   "execution_count": 27,
   "source": [
    "# Use this cell for your code\n",
    "months = data['month'].unique()\n",
    "\n",
    "for m in months:\n",
    "    print(m)\n",
    "    month = data[data['month'] == m]\n",
    "    \n",
    "    print(month['day'].unique())\n",
    "\n"
   ],
   "outputs": [
    {
     "output_type": "stream",
     "name": "stdout",
     "text": [
      "8\n",
      "[ 3  4  5  6  7  8  9 10 11 12 13 14 15 16 17 18 19 20 21 22 23 24 25 26\n",
      " 27 28 29 30 31  1  2]\n",
      "9\n",
      "[ 1  2  3  4  5  6  7  8  9 10 11 12 13 14 15 16 17 18 19 20 21 22 23 24\n",
      " 25 26 27 28 29 30]\n",
      "10\n",
      "[ 1  2  3  4  5  6  7  8  9 10 11 12 15 16 17 18 19 20 21 22 23 24 25 26\n",
      " 27 28 29 30 31]\n",
      "11\n",
      "[ 1  2  3  4  5  6  7  8  9 10 11 12 13 14 15 16 17 18 19 20 21 22 23 24\n",
      " 25 26 27]\n",
      "3\n",
      "[23 24 25 26 27 28 29 30 31]\n",
      "4\n",
      "[ 1  2  3  4  5  6  7  8  9 10 11 12 13 14 15 16 17 18 19 20 21 22 23 24\n",
      " 25 26 27 28]\n",
      "5\n",
      "[ 4  5  6  7  8  9 10 11 13 14 15 16 17 18 19 20 21 22 23 24 25 26 27 28\n",
      " 29 30 31]\n",
      "6\n",
      "[ 1  2  3  4  5  6  7  8  9 10 11 12 13 14 15 16 17 18 19 22 21 20 23 24\n",
      " 25 26 27 28 29 30]\n",
      "7\n",
      "[ 1  2  3  4  5  6  7  8  9 10 11 12 13 14 15 16 17 18 19 20 21 22 23 24\n",
      " 25 26 27 28 29 30 31]\n"
     ]
    }
   ],
   "metadata": {}
  },
  {
   "cell_type": "code",
   "execution_count": 36,
   "source": [
    "tellings = data['id'].unique()\n",
    "megalist = []\n",
    "for t in tellings:\n",
    "    station = data[data['id'] == t]\n",
    "    megalist.append(station)\n",
    "\n"
   ],
   "outputs": [],
   "metadata": {}
  },
  {
   "cell_type": "code",
   "execution_count": 83,
   "source": [
    "import matplotlib.pyplot as plt\n",
    "stations = megalist\n",
    "df = stations[235]"
   ],
   "outputs": [],
   "metadata": {}
  },
  {
   "cell_type": "code",
   "execution_count": 85,
   "source": [
    "station_data = pd.read_csv(\"tellingit_2017-2021.csv\", sep=';')\n",
    "station_names = station_data[station_data['year'] == 2020]['name'].unique()\n",
    "sorted_names = sorted(set([name.strip() for name in station_names]))"
   ],
   "outputs": [],
   "metadata": {}
  },
  {
   "cell_type": "code",
   "execution_count": 96,
   "source": [
    "\n",
    "df = df[df['yday'] == 200]\n",
    "station_ids = station_data[station_data['year'] == 2020]['id'].unique()\n",
    "names_ids = {}\n",
    "for ids in station_ids:\n",
    "    names_ids[ids] = station_data[station_data['id'] == ids].iloc[0]['name']\n",
    "\n",
    "#df.plot(x='time', y='bikesAvailable', figsize=(30,5), fontsize=15)"
   ],
   "outputs": [],
   "metadata": {}
  },
  {
   "cell_type": "code",
   "execution_count": 97,
   "source": [
    "print(names_ids[57])"
   ],
   "outputs": [
    {
     "output_type": "stream",
     "name": "stdout",
     "text": [
      "Lauttasaaren ostoskeskus\n"
     ]
    }
   ],
   "metadata": {}
  }
 ],
 "metadata": {
  "kernelspec": {
   "name": "python3",
   "display_name": "Python 3.7.10 64-bit ('mayhem': conda)"
  },
  "language_info": {
   "codemirror_mode": {
    "name": "ipython",
    "version": 3
   },
   "file_extension": ".py",
   "mimetype": "text/x-python",
   "name": "python",
   "nbconvert_exporter": "python",
   "pygments_lexer": "ipython3",
   "version": "3.7.10"
  },
  "interpreter": {
   "hash": "3c8168c376fd4e7683750aa993fde0435eea7e12b0b44216e3bfd38d63b29baf"
  }
 },
 "nbformat": 4,
 "nbformat_minor": 4
}